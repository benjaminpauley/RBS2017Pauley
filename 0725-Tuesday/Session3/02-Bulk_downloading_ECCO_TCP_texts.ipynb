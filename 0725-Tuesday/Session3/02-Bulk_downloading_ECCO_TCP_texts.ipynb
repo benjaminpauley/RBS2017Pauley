{
 "cells": [
  {
   "cell_type": "markdown",
   "metadata": {},
   "source": [
    "# Bulk downloading ECCO-TCP texts #\n",
    "\n",
    "Earlier, we identified which texts printed by William Bowyer are present in the ECCO-TCP corpus of TEI-encoded transcriptions and figured out the ECCO-TCP id that corresponds to each ESTC record for a work printed by Bowyer. Now, let's download those texts. \n",
    "\n",
    "Perverse as it will seem to anybody who's ever labored over taging a text following the TEI guidelines, we're going to throw away all of the markup to leave ourselves with a collection of plain text files. While we're at it, we'll modernize all of the long-s characters. \n",
    "\n",
    "In addition to the modules we've used before, we'll import the os module to create a directory in our file system."
   ]
  },
  {
   "cell_type": "code",
   "execution_count": 1,
   "metadata": {},
   "outputs": [
    {
     "name": "stdout",
     "output_type": "stream",
     "text": [
      "['https://raw.githubusercontent.com/textcreationpartnership/K025327.000/master/K025327.000.xml', 'https://raw.githubusercontent.com/textcreationpartnership/K020914.000/master/K020914.000.xml', 'https://raw.githubusercontent.com/textcreationpartnership/K029653.000/master/K029653.000.xml', 'https://raw.githubusercontent.com/textcreationpartnership/K036148.000/master/K036148.000.xml', 'https://raw.githubusercontent.com/textcreationpartnership/K036380.000/master/K036380.000.xml', 'https://raw.githubusercontent.com/textcreationpartnership/K036706.000/master/K036706.000.xml', 'https://raw.githubusercontent.com/textcreationpartnership/K039324.000/master/K039324.000.xml', 'https://raw.githubusercontent.com/textcreationpartnership/K022124.000/master/K022124.000.xml', 'https://raw.githubusercontent.com/textcreationpartnership/K040172.000/master/K040172.000.xml', 'https://raw.githubusercontent.com/textcreationpartnership/K041028.000/master/K041028.000.xml', 'https://raw.githubusercontent.com/textcreationpartnership/K022939.001/master/K022939.001.xml', 'https://raw.githubusercontent.com/textcreationpartnership/K022979.000/master/K022979.000.xml', 'https://raw.githubusercontent.com/textcreationpartnership/K023013.000/master/K023013.000.xml', 'https://raw.githubusercontent.com/textcreationpartnership/K023048.000/master/K023048.000.xml', 'https://raw.githubusercontent.com/textcreationpartnership/K023195.000/master/K023195.000.xml', 'https://raw.githubusercontent.com/textcreationpartnership/K020308.000/master/K020308.000.xml', 'https://raw.githubusercontent.com/textcreationpartnership/K020310.000/master/K020310.000.xml', 'https://raw.githubusercontent.com/textcreationpartnership/K132743.000/master/K132743.000.xml', 'https://raw.githubusercontent.com/textcreationpartnership/K048041.000/master/K048041.000.xml', 'https://raw.githubusercontent.com/textcreationpartnership/K052227.006/master/K052227.006.xml', 'https://raw.githubusercontent.com/textcreationpartnership/K056178.002/master/K056178.002.xml', 'https://raw.githubusercontent.com/textcreationpartnership/K060329.000/master/K060329.000.xml', 'https://raw.githubusercontent.com/textcreationpartnership/K066805.000/master/K066805.000.xml', 'https://raw.githubusercontent.com/textcreationpartnership/K075014.000/master/K075014.000.xml', 'https://raw.githubusercontent.com/textcreationpartnership/K080528.000/master/K080528.000.xml', 'https://raw.githubusercontent.com/textcreationpartnership/K081295.000/master/K081295.000.xml', 'https://raw.githubusercontent.com/textcreationpartnership/K084859.000/master/K084859.000.xml', 'https://raw.githubusercontent.com/textcreationpartnership/K086750.000/master/K086750.000.xml', 'https://raw.githubusercontent.com/textcreationpartnership/K088839.000/master/K088839.000.xml', 'https://raw.githubusercontent.com/textcreationpartnership/K089370.001/master/K089370.001.xml', 'https://raw.githubusercontent.com/textcreationpartnership/K092785.004/master/K092785.004.xml', 'https://raw.githubusercontent.com/textcreationpartnership/K109292.001/master/K109292.001.xml', 'https://raw.githubusercontent.com/textcreationpartnership/K111725.000/master/K111725.000.xml', 'https://raw.githubusercontent.com/textcreationpartnership/K114616.000/master/K114616.000.xml', 'https://raw.githubusercontent.com/textcreationpartnership/K043848.000/master/K043848.000.xml', 'https://raw.githubusercontent.com/textcreationpartnership/K044031.000/master/K044031.000.xml', 'https://raw.githubusercontent.com/textcreationpartnership/K046245.000/master/K046245.000.xml']\n"
     ]
    }
   ],
   "source": [
    "# Import libraries\n",
    "import csv\n",
    "import requests\n",
    "from bs4 import BeautifulSoup\n",
    "import re\n",
    "import os\n",
    "\n",
    "# Create a string variable with the beginning of the url we'll need to download our TCP texts from GitHub\n",
    "baseurl = 'https://raw.githubusercontent.com/textcreationpartnership/'\n",
    "# Crete an empty list to hold the URLs we want to download\n",
    "urls = []\n",
    "# Open our .csv file with TCP ids, initiate the csv DictReader, and read the file a line at a time\n",
    "with open('/media/sf_RBSDigitalApproaches/data/Bowyer_TCP_texts.csv', 'r') as infile :\n",
    "    reader = csv.DictReader(infile, delimiter=',', quotechar='\"')\n",
    "    for row in reader :\n",
    "        # Get the TCP id\n",
    "        tcp_id = row['tcp_id']\n",
    "        # Fill in the remainder of our URL with information based on the TCP id\n",
    "        url = baseurl + tcp_id + '/master/' + tcp_id + '.xml'\n",
    "        # Add our completed URL to our list of URLs\n",
    "        urls.append(url)\n",
    "\n",
    "# Let's see what we have\n",
    "print(urls)"
   ]
  },
  {
   "cell_type": "markdown",
   "metadata": {},
   "source": [
    "### Make our filenames for saving the files ###\n",
    "\n",
    "We saved the URLs, which include a filename ending in .xml, but we're going to save these files as plaintext (.txt) files. Note that, because we're outside of our earlier \"for\" loop now, we no longer have access to the tcp_id variable (which we could have simply combined with \".txt\"), so we'll have to get our filename a different way. \n",
    "\n",
    "(*Note*: If I were writing this as a freestanding script, rather than in a Jupyter Notebook, I'd probably do this differently, taking care of the URL construction, filename mangling, downloading, XML parsing, and file writing all inside that loop. That is, as I understand it, a relatively unsophisticated way to do things, but it certainly works...) "
   ]
  },
  {
   "cell_type": "code",
   "execution_count": 2,
   "metadata": {},
   "outputs": [
    {
     "name": "stdout",
     "output_type": "stream",
     "text": [
      "K025327.000.txt\n",
      "K020914.000.txt\n",
      "K029653.000.txt\n",
      "K036148.000.txt\n",
      "K036380.000.txt\n",
      "K036706.000.txt\n",
      "K039324.000.txt\n",
      "K022124.000.txt\n",
      "K040172.000.txt\n",
      "K041028.000.txt\n",
      "K022939.001.txt\n",
      "K022979.000.txt\n",
      "K023013.000.txt\n",
      "K023048.000.txt\n",
      "K023195.000.txt\n",
      "K020308.000.txt\n",
      "K020310.000.txt\n",
      "K132743.000.txt\n",
      "K048041.000.txt\n",
      "K052227.006.txt\n",
      "K056178.002.txt\n",
      "K060329.000.txt\n",
      "K066805.000.txt\n",
      "K075014.000.txt\n",
      "K080528.000.txt\n",
      "K081295.000.txt\n",
      "K084859.000.txt\n",
      "K086750.000.txt\n",
      "K088839.000.txt\n",
      "K089370.001.txt\n",
      "K092785.004.txt\n",
      "K109292.001.txt\n",
      "K111725.000.txt\n",
      "K114616.000.txt\n",
      "K043848.000.txt\n",
      "K044031.000.txt\n",
      "K046245.000.txt\n"
     ]
    }
   ],
   "source": [
    "for url in urls :\n",
    "    # First, use rpartition to split our url on the '/' character, starting from the right end and keeping \n",
    "    # the last bit. Then, take a portion of that string, beginning at character 0 and stopping four characters\n",
    "    # from the end of the string (this eliminates our .xml file extension). Finally, add the new file extension\n",
    "    # '.txt'.\n",
    "    filename = url.rpartition('/')[-1][0:-4] + '.txt'\n",
    "    print(filename)"
   ]
  },
  {
   "cell_type": "code",
   "execution_count": 3,
   "metadata": {
    "collapsed": true
   },
   "outputs": [],
   "source": [
    "# Check to be sure that we don't already have this folder (we'd raise an error if we tried running the code in this\n",
    "# cell a second time, because the directory would already exist)\n",
    "if not os.path.exists('/media/sf_RBSDigitalApproaches/data/Bowyer_TCP/') :\n",
    "    # If not, create the directory\n",
    "    os.mkdir('/media/sf_RBSDigitalApproaches/data/Bowyer_TCP/')\n",
    "for url in urls :\n",
    "    filename = url.rpartition('/')[-1][:-4] + '.txt'\n",
    "    # Pass the URL to the requests module and get the resource\n",
    "    r = requests.get(url)\n",
    "    # Pass the text that requests brings back over to teh BeautifulSoup module, using the xml parser from lxml. \n",
    "    soup = BeautifulSoup(r.text,'xml')\n",
    "    # Find the \"text\" element of our TEI document, then get_text() to get the text content, throwing away all \n",
    "    # the markup.\n",
    "    stripped = soup.find('text').get_text()\n",
    "    # Use the re.sub() to find all the long-s's (we have to designate that as a unicode character with the u\n",
    "    # outside the quotation marks) and replace them with short-s's.\n",
    "    modernized = re.sub(u'ſ','s',stripped)\n",
    "    # Open a new text file in our target directory and write our modernized text to it, encoding as utf-8\n",
    "    with open('/media/sf_RBSDigitalApproaches/data/Bowyer_TCP/' + filename, 'wb') as file :\n",
    "        file.write(modernized.encode('utf-8'))"
   ]
  },
  {
   "cell_type": "code",
   "execution_count": null,
   "metadata": {
    "collapsed": true
   },
   "outputs": [],
   "source": []
  }
 ],
 "metadata": {
  "kernelspec": {
   "display_name": "web-scraping",
   "language": "python",
   "name": "web-scraping"
  },
  "language_info": {
   "codemirror_mode": {
    "name": "ipython",
    "version": 2
   },
   "file_extension": ".py",
   "mimetype": "text/x-python",
   "name": "python",
   "nbconvert_exporter": "python",
   "pygments_lexer": "ipython2",
   "version": "2.7.12"
  }
 },
 "nbformat": 4,
 "nbformat_minor": 2
}
